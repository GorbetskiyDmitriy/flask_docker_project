{
 "cells": [
  {
   "cell_type": "code",
   "execution_count": null,
   "metadata": {
    "ExecuteTime": {
     "end_time": "2021-12-05T10:54:47.204038Z",
     "start_time": "2021-12-05T10:54:40.607646Z"
    }
   },
   "outputs": [],
   "source": [
    "import requests\n",
    "from sklearn.datasets import make_classification\n",
    "import numpy as np\n",
    "import pandas as pd\n",
    "import shutil\n",
    "from PIL import Image\n",
    "\n",
    "from sklearn.model_selection import train_test_split"
   ]
  },
  {
   "cell_type": "code",
   "execution_count": null,
   "metadata": {
    "ExecuteTime": {
     "end_time": "2021-12-05T11:17:11.936230Z",
     "start_time": "2021-12-05T11:17:11.775803Z"
    }
   },
   "outputs": [],
   "source": [
    "X, y = make_classification(n_samples=1000, n_features=4, n_classes=2, n_informative=2, random_state=42)\n",
    "X_multi, y_multi = make_classification(n_samples=500, n_features=6, n_classes=3, n_informative=6,\n",
    "                                      n_redundant=0, random_state=42)\n",
    "\n",
    "X_train, X_test, y_train, y_test = train_test_split(X, y, test_size=0.2, random_state=42)\n",
    "\n",
    "Xm_train, Xm_test, ym_train, ym_test = train_test_split(X_multi, y_multi, test_size=0.2, random_state=42,\n",
    "                                                       stratify=y_multi)\n",
    "\n",
    "\n",
    "X_train, X_test, y_train, y_test = pd.DataFrame(X_train).to_dict(), pd.DataFrame(X_test).to_dict(), \\\n",
    "                                   pd.DataFrame(y_train).to_dict(), pd.DataFrame(y_test).to_dict()\n",
    "\n",
    "Xm_train, Xm_test, ym_train, ym_test = pd.DataFrame(Xm_train).to_dict(), pd.DataFrame(Xm_test).to_dict(), \\\n",
    "                                       pd.DataFrame(ym_train).to_dict(), pd.DataFrame(ym_test).to_dict()"
   ]
  },
  {
   "cell_type": "markdown",
   "metadata": {},
   "source": [
    "# 0. Взаимодействие с БД"
   ]
  },
  {
   "cell_type": "code",
   "execution_count": null,
   "metadata": {
    "ExecuteTime": {
     "end_time": "2021-12-02T17:29:14.508008Z",
     "start_time": "2021-12-02T17:29:13.439522Z"
    }
   },
   "outputs": [],
   "source": [
    "print(requests.put('http://127.0.0.1:5000/api/add_row/1', json={'model': 'world'}).text)"
   ]
  },
  {
   "cell_type": "code",
   "execution_count": null,
   "metadata": {
    "ExecuteTime": {
     "end_time": "2021-12-02T17:29:21.140212Z",
     "start_time": "2021-12-02T17:29:20.576704Z"
    }
   },
   "outputs": [],
   "source": [
    "print(requests.post('http://127.0.0.1:5000/api/update_row/1', json={'model': 'Fitted'}).text)"
   ]
  },
  {
   "cell_type": "code",
   "execution_count": null,
   "metadata": {
    "ExecuteTime": {
     "end_time": "2021-12-02T16:47:47.496201Z",
     "start_time": "2021-12-02T16:47:46.963505Z"
    }
   },
   "outputs": [],
   "source": [
    "print(requests.get('http://127.0.0.1:5000/api/get_row/1').text)"
   ]
  },
  {
   "cell_type": "code",
   "execution_count": null,
   "metadata": {
    "ExecuteTime": {
     "end_time": "2021-12-02T16:48:12.805865Z",
     "start_time": "2021-12-02T16:48:12.255276Z"
    }
   },
   "outputs": [],
   "source": [
    "print(requests.delete('http://127.0.0.1:5000/api/delete_row/1').text)"
   ]
  },
  {
   "cell_type": "markdown",
   "metadata": {},
   "source": [
    "# 1. Доступные типы моделей:"
   ]
  },
  {
   "cell_type": "markdown",
   "metadata": {},
   "source": [
    "- 127.0.0.1:5000\n",
    "- 80.249.151.221:5000"
   ]
  },
  {
   "cell_type": "code",
   "execution_count": null,
   "metadata": {
    "ExecuteTime": {
     "end_time": "2021-12-05T11:16:30.536804Z",
     "start_time": "2021-12-05T11:16:29.325010Z"
    }
   },
   "outputs": [],
   "source": [
    "print(requests.get('http://80.249.151.221:5000/api/model_types').text)"
   ]
  },
  {
   "cell_type": "code",
   "execution_count": null,
   "metadata": {
    "ExecuteTime": {
     "end_time": "2021-12-02T16:48:42.993295Z",
     "start_time": "2021-12-02T16:48:42.988294Z"
    }
   },
   "outputs": [],
   "source": [
    "# print(requests.get('http://127.0.0.1:5000/api/results', json={'task_id': '090ebd70-f544-430f-82d5-10f27d5b2601'}).text)"
   ]
  },
  {
   "cell_type": "markdown",
   "metadata": {},
   "source": [
    "# 2. Создание моделей"
   ]
  },
  {
   "cell_type": "markdown",
   "metadata": {},
   "source": [
    "### 2.1 Корректный запрос, но с ошибкой в переменной"
   ]
  },
  {
   "cell_type": "code",
   "execution_count": null,
   "metadata": {
    "ExecuteTime": {
     "end_time": "2021-12-05T11:16:43.020018Z",
     "start_time": "2021-12-05T11:16:42.466144Z"
    }
   },
   "outputs": [],
   "source": [
    "print(requests.post('http://80.249.151.221:5000/api/create_model', json={\n",
    "    'model_type': 'LR',\n",
    "    'dataset_name': 'test'\n",
    "}).text)"
   ]
  },
  {
   "cell_type": "code",
   "execution_count": null,
   "metadata": {
    "ExecuteTime": {
     "end_time": "2021-12-02T16:49:10.110902Z",
     "start_time": "2021-12-02T16:49:08.460760Z"
    }
   },
   "outputs": [],
   "source": [
    "print(requests.post('http://127.0.0.1:5000/api/create_model', json={\n",
    "    'model_type': 'LR',\n",
    "    'model_name': 'LR',\n",
    "    'dataset_name': 'binary'\n",
    "}).text)\n",
    "\n",
    "print(requests.post('http://127.0.0.1:5000/api/create_model', json={\n",
    "    'model_type': 'boosting',\n",
    "    'dataset_name': 'multiclass'\n",
    "}).text)\n",
    "\n",
    "print(requests.post('http://127.0.0.1:5000/api/create_model', json={\n",
    "    'model_name': 'fit_test',\n",
    "    'model_type': 'LogisticRegression (LR)'\n",
    "}).text)"
   ]
  },
  {
   "cell_type": "markdown",
   "metadata": {},
   "source": [
    "### 2.2 Некорректный запрос"
   ]
  },
  {
   "cell_type": "code",
   "execution_count": null,
   "metadata": {
    "ExecuteTime": {
     "end_time": "2021-12-02T16:49:13.963075Z",
     "start_time": "2021-12-02T16:49:13.422822Z"
    }
   },
   "outputs": [],
   "source": [
    "print(requests.post('http://127.0.0.1:5000/api/create_model', json={\n",
    "    'model_type': 'Tree',\n",
    "    'model_name': 'test_name',\n",
    "    'dataset_name': 'test_name'\n",
    "}).text)"
   ]
  },
  {
   "cell_type": "markdown",
   "metadata": {},
   "source": [
    "# 3. Принт доступных моделей"
   ]
  },
  {
   "cell_type": "markdown",
   "metadata": {},
   "source": [
    "### 3.0 Все модели"
   ]
  },
  {
   "cell_type": "code",
   "execution_count": null,
   "metadata": {
    "ExecuteTime": {
     "end_time": "2021-12-05T11:16:35.762051Z",
     "start_time": "2021-12-05T11:16:35.205762Z"
    }
   },
   "outputs": [],
   "source": [
    "r = requests.get('http://80.249.151.221:5000/api/get_model')\n",
    "try: \n",
    "    print(r.json())\n",
    "except:\n",
    "    print(r.text)"
   ]
  },
  {
   "cell_type": "markdown",
   "metadata": {},
   "source": [
    "### 3.1 Несуществующая модель"
   ]
  },
  {
   "cell_type": "code",
   "execution_count": null,
   "metadata": {
    "ExecuteTime": {
     "end_time": "2021-12-02T16:49:24.813122Z",
     "start_time": "2021-12-02T16:49:24.260220Z"
    }
   },
   "outputs": [],
   "source": [
    "r = requests.get('http://127.0.0.1:5000/api/get_model/20')\n",
    "try: \n",
    "    print(r.json())\n",
    "except:\n",
    "    print(r.text)"
   ]
  },
  {
   "cell_type": "markdown",
   "metadata": {},
   "source": [
    "### 3.2. Правильный id модели"
   ]
  },
  {
   "cell_type": "code",
   "execution_count": null,
   "metadata": {
    "ExecuteTime": {
     "end_time": "2021-12-02T16:49:31.369462Z",
     "start_time": "2021-12-02T16:49:30.809220Z"
    }
   },
   "outputs": [],
   "source": [
    "print(requests.get('http://127.0.0.1:5000/api/get_model/2').text)"
   ]
  },
  {
   "cell_type": "markdown",
   "metadata": {},
   "source": [
    "# 4. Обновление модели"
   ]
  },
  {
   "cell_type": "markdown",
   "metadata": {},
   "source": [
    "### 4.1. Вызов без словаря"
   ]
  },
  {
   "cell_type": "code",
   "execution_count": null,
   "metadata": {
    "ExecuteTime": {
     "end_time": "2021-12-02T16:49:36.930472Z",
     "start_time": "2021-12-02T16:49:36.371872Z"
    }
   },
   "outputs": [],
   "source": [
    "print(requests.post('http://127.0.0.1:5000/api/update_model').text)"
   ]
  },
  {
   "cell_type": "markdown",
   "metadata": {},
   "source": [
    "### 4.2. Вызов с некорректным словарем"
   ]
  },
  {
   "cell_type": "code",
   "execution_count": null,
   "metadata": {
    "ExecuteTime": {
     "end_time": "2021-12-02T16:49:41.163726Z",
     "start_time": "2021-12-02T16:49:40.605530Z"
    }
   },
   "outputs": [],
   "source": [
    "print(requests.post('http://127.0.0.1:5000/api/update_model', json={\n",
    "    'model_type': 'test',\n",
    "    'dataset_name': 'multi_class'\n",
    "}).text)"
   ]
  },
  {
   "cell_type": "markdown",
   "metadata": {},
   "source": [
    "### 4.3 Корректный вызов"
   ]
  },
  {
   "cell_type": "code",
   "execution_count": null,
   "metadata": {
    "ExecuteTime": {
     "end_time": "2021-12-02T16:49:45.149297Z",
     "start_time": "2021-12-02T16:49:44.610168Z"
    }
   },
   "outputs": [],
   "source": [
    "print(requests.post('http://127.0.0.1:5000/api/update_model', json={\n",
    "    'model_id': 1,\n",
    "    'model_type': 'test',\n",
    "    'dataset_name': 'test_2'\n",
    "}).text)"
   ]
  },
  {
   "cell_type": "markdown",
   "metadata": {},
   "source": [
    "# 5. Удаление модели"
   ]
  },
  {
   "cell_type": "markdown",
   "metadata": {},
   "source": [
    "### 5.1 Correct"
   ]
  },
  {
   "cell_type": "code",
   "execution_count": null,
   "metadata": {
    "ExecuteTime": {
     "end_time": "2021-12-05T11:18:50.406247Z",
     "start_time": "2021-12-05T11:18:49.854152Z"
    }
   },
   "outputs": [],
   "source": [
    "print(requests.delete('http://80.249.151.221:5000/api/delete_model/1').text)"
   ]
  },
  {
   "cell_type": "markdown",
   "metadata": {},
   "source": [
    "### 5.2 Incorrect"
   ]
  },
  {
   "cell_type": "code",
   "execution_count": null,
   "metadata": {
    "ExecuteTime": {
     "end_time": "2021-12-02T16:49:58.250873Z",
     "start_time": "2021-12-02T16:49:57.701031Z"
    }
   },
   "outputs": [],
   "source": [
    "print(requests.delete('http://127.0.0.1:5000/api/delete_model/500').text)"
   ]
  },
  {
   "cell_type": "markdown",
   "metadata": {},
   "source": [
    "# 6. Установление гиперпараметров вручную"
   ]
  },
  {
   "cell_type": "markdown",
   "metadata": {},
   "source": [
    "### 6.1 Корректные гиперпараметры"
   ]
  },
  {
   "cell_type": "code",
   "execution_count": null,
   "metadata": {
    "ExecuteTime": {
     "end_time": "2021-12-02T16:50:03.426328Z",
     "start_time": "2021-12-02T16:50:02.892766Z"
    }
   },
   "outputs": [],
   "source": [
    "print(requests.put('http://127.0.0.1:5000/api/set_model_params/2', json={'C': 2}).text)"
   ]
  },
  {
   "cell_type": "markdown",
   "metadata": {},
   "source": [
    "### 6.2 Некорректные гиперпараметры"
   ]
  },
  {
   "cell_type": "code",
   "execution_count": null,
   "metadata": {
    "ExecuteTime": {
     "end_time": "2021-12-02T16:50:07.792422Z",
     "start_time": "2021-12-02T16:50:07.237597Z"
    }
   },
   "outputs": [],
   "source": [
    "print(requests.put('http://127.0.0.1:5000/api/set_model_params/2', json={'abc': -1}).text)"
   ]
  },
  {
   "cell_type": "markdown",
   "metadata": {},
   "source": [
    "# 7. Доступные для оптимазации гиперпараметры"
   ]
  },
  {
   "cell_type": "markdown",
   "metadata": {},
   "source": [
    "### 7.1 Корректный тип модели"
   ]
  },
  {
   "cell_type": "code",
   "execution_count": null,
   "metadata": {
    "ExecuteTime": {
     "end_time": "2021-12-02T16:50:11.197197Z",
     "start_time": "2021-12-02T16:50:10.644470Z"
    }
   },
   "outputs": [],
   "source": [
    "print(requests.get('http://127.0.0.1:5000/api/available_opt_params', json={'model_type': 'LR'}).text)"
   ]
  },
  {
   "cell_type": "markdown",
   "metadata": {},
   "source": [
    "### 7.2 Некорректный тип модели"
   ]
  },
  {
   "cell_type": "code",
   "execution_count": null,
   "metadata": {
    "ExecuteTime": {
     "end_time": "2021-12-02T16:50:14.352343Z",
     "start_time": "2021-12-02T16:50:13.799359Z"
    }
   },
   "outputs": [],
   "source": [
    "print(requests.get('http://127.0.0.1:5000/api/available_opt_params', json={'model_type': 'Tree'}).text)"
   ]
  },
  {
   "cell_type": "markdown",
   "metadata": {},
   "source": [
    "### 7.3 Ввод без словаря"
   ]
  },
  {
   "cell_type": "code",
   "execution_count": null,
   "metadata": {
    "ExecuteTime": {
     "end_time": "2021-12-02T16:50:16.601505Z",
     "start_time": "2021-12-02T16:50:16.052177Z"
    }
   },
   "outputs": [],
   "source": [
    "print(requests.get('http://127.0.0.1:5000/api/available_opt_params').text)"
   ]
  },
  {
   "cell_type": "markdown",
   "metadata": {},
   "source": [
    "# 8. Оптимизация гиперпараметров"
   ]
  },
  {
   "cell_type": "markdown",
   "metadata": {},
   "source": [
    "### 8.1 Правильная передача гиперпараметров"
   ]
  },
  {
   "cell_type": "code",
   "execution_count": null,
   "metadata": {
    "ExecuteTime": {
     "end_time": "2021-12-05T11:18:01.067082Z",
     "start_time": "2021-12-05T11:18:00.953000Z"
    }
   },
   "outputs": [],
   "source": [
    "params_to_optimaze = {'C': [0, 10],\n",
    "                      'tol': [0.000001, 0.01],\n",
    "                      'max_iter': [10, 1000]}\n",
    "\n",
    "json = {'X': X_train,\n",
    "        'y': y_train,\n",
    "        'metric': 'auc_roc',\n",
    "        'params_to_optimaze':{}}\n",
    "\n",
    "print(requests.get('http://80.249.151.221:5000/api/optimize_model_params/1', json=json).text)"
   ]
  },
  {
   "cell_type": "code",
   "execution_count": null,
   "metadata": {
    "ExecuteTime": {
     "end_time": "2021-12-05T11:18:22.465426Z",
     "start_time": "2021-12-05T11:18:22.424430Z"
    }
   },
   "outputs": [],
   "source": [
    "print(requests.get('http://80.249.151.221:5000/api/results', json={'task_id': 'ded0c4aa-add4-482d-95c1-cad98023c619'}).text)"
   ]
  },
  {
   "cell_type": "code",
   "execution_count": null,
   "metadata": {
    "ExecuteTime": {
     "end_time": "2021-12-01T17:55:36.777668Z",
     "start_time": "2021-12-01T17:55:36.723430Z"
    }
   },
   "outputs": [],
   "source": [
    "params_to_optimaze = {\n",
    "'boosting_type': ['goss'],\n",
    "'n_estimators': [10, 100],\n",
    "'learning_rate': [0.1, 0.2], \n",
    "'num_leaves': [10, 100],\n",
    "'max_depth': [1, 10],  \n",
    "'min_child_weight': [2, 100], \n",
    "'reg_alpha': [0.1, 0.2], \n",
    "'reg_lambda': [0.1, 0.2]\n",
    "}\n",
    "\n",
    "json = {'X': Xm_train,\n",
    "        'y': ym_train,\n",
    "        'metric': 'auc_pr',\n",
    "        'params_to_optimaze': params_to_optimaze,\n",
    "       'max_trails': 100}\n",
    "\n",
    "print(requests.get('http://127.0.0.1:5000/api/optimize_model_params/9', json=json).text)"
   ]
  },
  {
   "cell_type": "markdown",
   "metadata": {},
   "source": [
    "### 8.2 Неправильная передача гиперпараметров"
   ]
  },
  {
   "cell_type": "code",
   "execution_count": null,
   "metadata": {
    "ExecuteTime": {
     "end_time": "2021-12-02T16:50:40.526939Z",
     "start_time": "2021-12-02T16:50:40.449690Z"
    }
   },
   "outputs": [],
   "source": [
    "params_to_optimaze = {'C': [1, 1, 1]}\n",
    "\n",
    "json = {'X': X_train,\n",
    "       'y': y_train,\n",
    "       'metric': 'f1',\n",
    "       'params_to_optimaze': params_to_optimaze}\n",
    "\n",
    "\n",
    "requests.get('http://127.0.0.1:5000/api/optimize_model_params/1', json=json).text"
   ]
  },
  {
   "cell_type": "markdown",
   "metadata": {},
   "source": [
    "# 9. fit"
   ]
  },
  {
   "cell_type": "markdown",
   "metadata": {},
   "source": [
    "### 9.1 Correct"
   ]
  },
  {
   "cell_type": "code",
   "execution_count": null,
   "metadata": {
    "ExecuteTime": {
     "end_time": "2021-12-02T16:50:52.809117Z",
     "start_time": "2021-12-02T16:50:52.747743Z"
    }
   },
   "outputs": [],
   "source": [
    "print(requests.put('http://127.0.0.1:5000/api/fit/2', json={'X': X_train, 'y': y_train}).text)"
   ]
  },
  {
   "cell_type": "code",
   "execution_count": null,
   "metadata": {
    "ExecuteTime": {
     "end_time": "2021-12-02T17:31:05.939234Z",
     "start_time": "2021-12-02T17:31:05.869607Z"
    }
   },
   "outputs": [],
   "source": [
    "print(requests.put('http://127.0.0.1:5000/api/fit/3', json={'X': Xm_train, 'y': ym_train}).text)"
   ]
  },
  {
   "cell_type": "code",
   "execution_count": null,
   "metadata": {
    "ExecuteTime": {
     "end_time": "2021-12-02T16:51:20.382949Z",
     "start_time": "2021-12-02T16:51:20.356549Z"
    }
   },
   "outputs": [],
   "source": [
    "print(requests.get('http://127.0.0.1:5000/api/results', json={'task_id': '7d8dbd8a-f318-4fae-b07d-a85836b35e1b'}).text)"
   ]
  },
  {
   "cell_type": "markdown",
   "metadata": {},
   "source": [
    "# 10. predict"
   ]
  },
  {
   "cell_type": "markdown",
   "metadata": {
    "ExecuteTime": {
     "end_time": "2021-10-29T13:14:55.556107Z",
     "start_time": "2021-10-29T13:14:55.552142Z"
    }
   },
   "source": [
    "### 10.1 Correct"
   ]
  },
  {
   "cell_type": "code",
   "execution_count": null,
   "metadata": {
    "ExecuteTime": {
     "end_time": "2021-12-02T17:31:10.931280Z",
     "start_time": "2021-12-02T17:31:10.880966Z"
    }
   },
   "outputs": [],
   "source": [
    "print(requests.put('http://127.0.0.1:5000/api/predict/3', json={'X': Xm_test}).text)"
   ]
  },
  {
   "cell_type": "code",
   "execution_count": null,
   "metadata": {
    "ExecuteTime": {
     "end_time": "2021-12-02T16:51:53.418901Z",
     "start_time": "2021-12-02T16:51:53.379654Z"
    }
   },
   "outputs": [],
   "source": [
    "preds = requests.get('http://127.0.0.1:5000/api/results', json={'task_id': 'd4658675-ab09-4066-a6f9-f17ffd5b3027'}).json()"
   ]
  },
  {
   "cell_type": "markdown",
   "metadata": {},
   "source": [
    "### 10.2 Incorrect"
   ]
  },
  {
   "cell_type": "code",
   "execution_count": null,
   "metadata": {
    "ExecuteTime": {
     "end_time": "2021-12-02T16:52:45.473916Z",
     "start_time": "2021-12-02T16:52:45.412313Z"
    }
   },
   "outputs": [],
   "source": [
    "print(requests.put('http://127.0.0.1:5000/api/predict/4', json={'X': X_test}).text)"
   ]
  },
  {
   "cell_type": "markdown",
   "metadata": {},
   "source": [
    "# 11. predict_proba"
   ]
  },
  {
   "cell_type": "markdown",
   "metadata": {},
   "source": [
    "### 11.1 Correct"
   ]
  },
  {
   "cell_type": "code",
   "execution_count": null,
   "metadata": {
    "ExecuteTime": {
     "end_time": "2021-12-02T16:52:58.255378Z",
     "start_time": "2021-12-02T16:52:58.208123Z"
    }
   },
   "outputs": [],
   "source": [
    "print(requests.put('http://127.0.0.1:5000/api/predict_proba/2', json={'X': X_test}).text)"
   ]
  },
  {
   "cell_type": "code",
   "execution_count": null,
   "metadata": {
    "ExecuteTime": {
     "end_time": "2021-12-02T16:53:05.599237Z",
     "start_time": "2021-12-02T16:53:05.562052Z"
    }
   },
   "outputs": [],
   "source": [
    "preds_proba = requests.get('http://127.0.0.1:5000/api/results', \n",
    "                           json={'task_id': '9263861a-453d-4bf6-ad2e-0cb930a2a645'}).json()"
   ]
  },
  {
   "cell_type": "markdown",
   "metadata": {},
   "source": [
    "# 12. получение метрик качеств"
   ]
  },
  {
   "cell_type": "markdown",
   "metadata": {},
   "source": [
    "### 12.1 Correct"
   ]
  },
  {
   "cell_type": "code",
   "execution_count": null,
   "metadata": {
    "ExecuteTime": {
     "end_time": "2021-12-02T16:53:32.693597Z",
     "start_time": "2021-12-02T16:53:32.647205Z"
    }
   },
   "outputs": [],
   "source": [
    "json = {'y_true': y_test, \n",
    "        'X': X_test, \n",
    "        'plot':True}\n",
    "\n",
    "print(requests.get('http://127.0.0.1:5000/api/get_scores/2', json=json).text)"
   ]
  },
  {
   "cell_type": "code",
   "execution_count": null,
   "metadata": {
    "ExecuteTime": {
     "end_time": "2021-12-02T16:54:08.244049Z",
     "start_time": "2021-12-02T16:54:08.209135Z"
    }
   },
   "outputs": [],
   "source": [
    "print(requests.get('http://127.0.0.1:5000/api/results', json={'task_id': '4ecba3ff-e280-4203-907b-573a382aa9b4'}).text)"
   ]
  },
  {
   "cell_type": "code",
   "execution_count": null,
   "metadata": {
    "ExecuteTime": {
     "end_time": "2021-12-02T16:54:31.349890Z",
     "start_time": "2021-12-02T16:54:31.280253Z"
    }
   },
   "outputs": [],
   "source": [
    "json = {'y_true': ym_test, \n",
    "        'X': Xm_test}\n",
    "\n",
    "print(requests.get('http://127.0.0.1:5000/api/get_scores/3', json=json).text)"
   ]
  },
  {
   "cell_type": "code",
   "execution_count": null,
   "metadata": {
    "ExecuteTime": {
     "end_time": "2021-12-02T16:54:47.877404Z",
     "start_time": "2021-12-02T16:54:47.847856Z"
    }
   },
   "outputs": [],
   "source": [
    "print(requests.get('http://127.0.0.1:5000/api/results', json={'task_id': '04a366cf-61ee-4d57-9cba-244cf9e926b3'}).text)"
   ]
  },
  {
   "cell_type": "code",
   "execution_count": null,
   "metadata": {},
   "outputs": [],
   "source": []
  }
 ],
 "metadata": {
  "kernelspec": {
   "display_name": "Python 3",
   "language": "python",
   "name": "python3"
  },
  "language_info": {
   "codemirror_mode": {
    "name": "ipython",
    "version": 3
   },
   "file_extension": ".py",
   "mimetype": "text/x-python",
   "name": "python",
   "nbconvert_exporter": "python",
   "pygments_lexer": "ipython3",
   "version": "3.8.5"
  }
 },
 "nbformat": 4,
 "nbformat_minor": 4
}
